{
 "cells": [
  {
   "cell_type": "markdown",
   "metadata": {
    "dotnet_interactive": {
     "language": "csharp"
    }
   },
   "source": [
    "# .NET Interactive with Microsoft Graph\n",
    "\n",
    "This file demonstrates using the Microsoft Graph extension for .NET Interactive Notebooks.\n",
    "\n",
    "## Build and load\n",
    "\n",
    "In the following sections, replace `<REPLACE_WITH_WORKING_DIRECTORY>` with your current working directory for project."
   ]
  },
  {
   "cell_type": "code",
   "execution_count": null,
   "metadata": {
    "dotnet_interactive": {
     "language": "pwsh"
    },
    "vscode": {
     "languageId": "dotnet-interactive.pwsh"
    }
   },
   "outputs": [],
   "source": [
    "rm ~/.nuget/packages/Microsoft.DotNet.Interactive.MicrosoftGraph -Force -Recurse -ErrorAction Ignore\n",
    "dotnet build ./src/Microsoft.DotNet.Interactive.MicrosoftGraph.csproj"
   ]
  },
  {
   "cell_type": "code",
   "execution_count": null,
   "metadata": {
    "dotnet_interactive": {
     "language": "csharp"
    },
    "vscode": {
     "languageId": "dotnet-interactive.csharp"
    }
   },
   "outputs": [],
   "source": [
    "#i nuget:<REPLACE_WITH_WORKING_DIRECTORY>\\src\\bin\\Debug\\\n",
    "#r \"nuget:Microsoft.DotNet.Interactive.MicrosoftGraph,*-*\""
   ]
  },
  {
   "cell_type": "markdown",
   "metadata": {},
   "source": [
    "## Add your app registration\n",
    "\n",
    "In the following sections, replace `YOUR_CLIENT_ID` with your client ID, `YOUR_TENANT_ID` with your tenant ID, and `YOUR_CLIENT_SECRET` with your client secret (if you're using client credential authentication)."
   ]
  },
  {
   "cell_type": "markdown",
   "metadata": {},
   "source": [
    "## Help"
   ]
  },
  {
   "cell_type": "code",
   "execution_count": null,
   "metadata": {
    "dotnet_interactive": {
     "language": "csharp"
    },
    "vscode": {
     "languageId": "dotnet-interactive.csharp"
    }
   },
   "outputs": [],
   "source": [
    "#!microsoftgraph -h"
   ]
  },
  {
   "cell_type": "markdown",
   "metadata": {},
   "source": [
    "## Interactive browser auth\n",
    "\n",
    "Interactive browser auth (via [authorization code flow](https://learn.microsoft.com/azure/active-directory/develop/v2-oauth2-auth-code-flow)) should work for user authentication on systems where a browser is available.\n",
    "\n",
    "### Create client"
   ]
  },
  {
   "cell_type": "code",
   "execution_count": null,
   "metadata": {
    "dotnet_interactive": {
     "language": "csharp"
    },
    "vscode": {
     "languageId": "dotnet-interactive.csharp"
    }
   },
   "outputs": [],
   "source": [
    "#!microsoftgraph -t \"YOUR_TENANT_ID\" -c \"YOUR_CLIENT_ID\" -a InteractiveBrowser -n interactiveClient"
   ]
  },
  {
   "cell_type": "markdown",
   "metadata": {},
   "source": [
    "### Make requests"
   ]
  },
  {
   "cell_type": "code",
   "execution_count": null,
   "metadata": {
    "dotnet_interactive": {
     "language": "csharp"
    },
    "vscode": {
     "languageId": "dotnet-interactive.csharp"
    }
   },
   "outputs": [],
   "source": [
    "var me = await interactiveClient.Me.GetAsync();\n",
    "me.DisplayName"
   ]
  },
  {
   "cell_type": "markdown",
   "metadata": {},
   "source": [
    "## Device code auth\n",
    "\n",
    "[Device code auth](https://learn.microsoft.com/azure/active-directory/develop/v2-oauth2-device-code) is designed for user authentication on systems that do not have a default browser available.\n",
    "\n",
    "### Create client"
   ]
  },
  {
   "cell_type": "code",
   "execution_count": null,
   "metadata": {
    "dotnet_interactive": {
     "language": "csharp"
    },
    "vscode": {
     "languageId": "dotnet-interactive.csharp"
    }
   },
   "outputs": [],
   "source": [
    "#!microsoftgraph -t \"YOUR_TENANT_ID\" -c \"YOUR_CLIENT_ID\" -a DeviceCode -n deviceCodeClient"
   ]
  },
  {
   "cell_type": "markdown",
   "metadata": {},
   "source": [
    "### Make requests"
   ]
  },
  {
   "cell_type": "code",
   "execution_count": null,
   "metadata": {
    "dotnet_interactive": {
     "language": "csharp"
    },
    "vscode": {
     "languageId": "dotnet-interactive.csharp"
    }
   },
   "outputs": [],
   "source": [
    "var me = await deviceCodeClient.Me.GetAsync();\n",
    "me.DisplayName"
   ]
  },
  {
   "cell_type": "markdown",
   "metadata": {},
   "source": [
    "## Client credential auth\n",
    "\n",
    "[Client credential auth](https://learn.microsoft.com/azure/active-directory/develop/v2-oauth2-client-creds-grant-flow) is designed for unattended scenarios. In this case, a user is not authenticated - the application itself is authenticated. This auth flow does require a tenant admin to provide consent.\n",
    "\n",
    "### Create client"
   ]
  },
  {
   "cell_type": "code",
   "execution_count": null,
   "metadata": {
    "dotnet_interactive": {
     "language": "csharp"
    },
    "vscode": {
     "languageId": "dotnet-interactive.csharp"
    }
   },
   "outputs": [],
   "source": [
    "#!microsoftgraph -t \"YOUR_TENANT_ID\" -c \"YOUR_CLIENT_ID\" -s \"YOUR_CLIENT_SECRET\" -a ClientCredential -n appOnlyClient"
   ]
  },
  {
   "cell_type": "markdown",
   "metadata": {},
   "source": [
    "### Make requests"
   ]
  },
  {
   "cell_type": "code",
   "execution_count": null,
   "metadata": {
    "dotnet_interactive": {
     "language": "csharp"
    },
    "vscode": {
     "languageId": "dotnet-interactive.csharp"
    }
   },
   "outputs": [],
   "source": [
    "var users = await appOnlyClient.Users\n",
    "    .GetAsync(requestConfiguration => {\n",
    "        requestConfiguration.QueryParameters.Select = new string[] { \"DisplayName\", \"UserPrincipalName\" };\n",
    "    });\n",
    "\n",
    "users.Value.Select(u => new {u.DisplayName, u.UserPrincipalName})"
   ]
  }
 ],
 "metadata": {
  "kernelspec": {
   "display_name": ".NET (C#)",
   "language": "C#",
   "name": ".net-csharp"
  },
  "language_info": {
   "file_extension": ".cs",
   "mimetype": "text/x-csharp",
   "name": "C#",
   "pygments_lexer": "csharp",
   "version": "9.0"
  },
  "orig_nbformat": 4
 },
 "nbformat": 4,
 "nbformat_minor": 2
}
